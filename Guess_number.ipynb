{
 "cells": [
  {
   "cell_type": "code",
   "execution_count": null,
   "metadata": {},
   "outputs": [],
   "source": [
    "#產生一隨機整數 1~100\n",
    "#使用者去猜\n",
    "#重覆直到猜對就結束程式\n",
    "#秀出猜幾次才成功\n",
    "\n",
    "import random\n",
    "start = input('請輸入隨機數字範圍起始值')\n",
    "end = input('請輸入隨機數字範圍結束值')\n",
    "start = int(start)\n",
    "end = int(end)\n",
    "r = random.randint(statrt, end) #1~100 隨機產生一數字"
   ]
  },
  {
   "cell_type": "code",
   "execution_count": null,
   "metadata": {},
   "outputs": [],
   "source": [
    "count = 0\n",
    "while True:\n",
    "    count += 1\n",
    "    num = input('猜數字遊戲1~100: ')\n",
    "    num = int(num) #字串轉數值\n",
    "    if num == r:\n",
    "        print('這是你猜的第', count, '次, 恭喜你猜對了')\n",
    "        break\n",
    "    elif num > r:\n",
    "        print('比答案再小點')\n",
    "    elif num < r:\n",
    "        print('比答案再大點')\n",
    "    print('這是你猜的第', count, '次')"
   ]
  },
  {
   "cell_type": "code",
   "execution_count": null,
   "metadata": {},
   "outputs": [],
   "source": []
  }
 ],
 "metadata": {
  "kernelspec": {
   "display_name": "Python 3",
   "language": "python",
   "name": "python3"
  },
  "language_info": {
   "codemirror_mode": {
    "name": "ipython",
    "version": 3
   },
   "file_extension": ".py",
   "mimetype": "text/x-python",
   "name": "python",
   "nbconvert_exporter": "python",
   "pygments_lexer": "ipython3",
   "version": "3.6.8"
  }
 },
 "nbformat": 4,
 "nbformat_minor": 2
}
