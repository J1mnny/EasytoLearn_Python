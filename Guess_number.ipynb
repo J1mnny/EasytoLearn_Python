{
 "cells": [
  {
   "cell_type": "code",
   "execution_count": 1,
   "metadata": {},
   "outputs": [
    {
     "data": {
      "text/plain": [
       "94"
      ]
     },
     "execution_count": 1,
     "metadata": {},
     "output_type": "execute_result"
    }
   ],
   "source": [
    "#使用者猜一數字1~100\n",
    "#重覆直到猜對就結束程式\n",
    "\n",
    "import random\n",
    "\n",
    "r = random.randint(1, 100)\n",
    "r"
   ]
  },
  {
   "cell_type": "code",
   "execution_count": 4,
   "metadata": {},
   "outputs": [
    {
     "name": "stdout",
     "output_type": "stream",
     "text": [
      "猜數字遊戲1~100: 94\n",
      "恭喜你猜對了\n"
     ]
    }
   ],
   "source": [
    "num = input('猜數字遊戲1~100: ')\n",
    "num = int(num) #字串轉數值\n",
    "while True:\n",
    "    if num == r:\n",
    "        print('恭喜你猜對了')\n",
    "        break\n",
    "    elif num > r:\n",
    "        print('比答案再小點')\n",
    "    elif num < r:\n",
    "        print('比答案再大點')"
   ]
  },
  {
   "cell_type": "code",
   "execution_count": null,
   "metadata": {},
   "outputs": [],
   "source": []
  }
 ],
 "metadata": {
  "kernelspec": {
   "display_name": "Python 3",
   "language": "python",
   "name": "python3"
  },
  "language_info": {
   "codemirror_mode": {
    "name": "ipython",
    "version": 3
   },
   "file_extension": ".py",
   "mimetype": "text/x-python",
   "name": "python",
   "nbconvert_exporter": "python",
   "pygments_lexer": "ipython3",
   "version": "3.6.8"
  }
 },
 "nbformat": 4,
 "nbformat_minor": 2
}
