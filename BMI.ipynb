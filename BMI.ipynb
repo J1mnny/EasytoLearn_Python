{
 "cells": [
  {
   "cell_type": "code",
   "execution_count": 2,
   "metadata": {},
   "outputs": [
    {
     "name": "stdout",
     "output_type": "stream",
     "text": [
      "請輸入身高(公分) ：179\n",
      "請輸入體重 ：78\n"
     ]
    }
   ],
   "source": [
    "h = input(\"請輸入身高(公分) ：\")\n",
    "w = input(\"請輸入體重 ：\")"
   ]
  },
  {
   "cell_type": "code",
   "execution_count": 4,
   "metadata": {},
   "outputs": [],
   "source": [
    "h = int(h) #字串轉數值\n",
    "w = int(w)\n",
    "m = h /100 #身高轉為米\n",
    "bmi = w / m / m #BMI公式 體重/身高(米)平方"
   ]
  },
  {
   "cell_type": "code",
   "execution_count": 5,
   "metadata": {},
   "outputs": [
    {
     "name": "stdout",
     "output_type": "stream",
     "text": [
      "體重正常\n"
     ]
    }
   ],
   "source": [
    "if bmi <= 16:\n",
    "    print('體重嚴重不足')\n",
    "elif 16 < bmi <= 18.5:\n",
    "    print('體重過輕')\n",
    "elif 18.5 < bmi <= 25:\n",
    "    print('體重正常')\n",
    "elif 25 < bmi <= 30:\n",
    "    print('體重過重')\n",
    "else:\n",
    "    print('已嚴重過胖')"
   ]
  }
 ],
 "metadata": {
  "kernelspec": {
   "display_name": "Python 3",
   "language": "python",
   "name": "python3"
  },
  "language_info": {
   "codemirror_mode": {
    "name": "ipython",
    "version": 3
   },
   "file_extension": ".py",
   "mimetype": "text/x-python",
   "name": "python",
   "nbconvert_exporter": "python",
   "pygments_lexer": "ipython3",
   "version": "3.6.8"
  }
 },
 "nbformat": 4,
 "nbformat_minor": 2
}
