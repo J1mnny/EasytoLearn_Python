{
 "cells": [
  {
   "cell_type": "code",
   "execution_count": 10,
   "metadata": {},
   "outputs": [
    {
     "name": "stdout",
     "output_type": "stream",
     "text": [
      "請輸入產品名稱： Milk\n",
      "請輸入價格： 30\n",
      "請輸入產品名稱： Tea\n",
      "請輸入價格： 20\n",
      "請輸入產品名稱： Water\n",
      "請輸入價格： 10\n",
      "請輸入產品名稱： q\n",
      "[['Milk', '30'], ['Tea', '20'], ['Water', '10']]\n",
      "Tea\n"
     ]
    }
   ],
   "source": [
    "products = []\n",
    "while True:\n",
    "    name = input('請輸入產品名稱： ')\n",
    "    if name == 'q':\n",
    "        break\n",
    "    price = input ('請輸入價格： ')\n",
    "    p = [name, price]\n",
    "    products.append(p)\n",
    "print(products)\n",
    "print(products[1][0])"
   ]
  },
  {
   "cell_type": "code",
   "execution_count": 9,
   "metadata": {},
   "outputs": [
    {
     "name": "stdout",
     "output_type": "stream",
     "text": [
      "i\n",
      "e\n",
      "a\n"
     ]
    }
   ],
   "source": [
    "for p in products:\n",
    "    print(p)"
   ]
  },
  {
   "cell_type": "code",
   "execution_count": null,
   "metadata": {},
   "outputs": [],
   "source": []
  }
 ],
 "metadata": {
  "kernelspec": {
   "display_name": "Python 3",
   "language": "python",
   "name": "python3"
  },
  "language_info": {
   "codemirror_mode": {
    "name": "ipython",
    "version": 3
   },
   "file_extension": ".py",
   "mimetype": "text/x-python",
   "name": "python",
   "nbconvert_exporter": "python",
   "pygments_lexer": "ipython3",
   "version": "3.6.8"
  }
 },
 "nbformat": 4,
 "nbformat_minor": 2
}
