{
 "cells": [
  {
   "cell_type": "code",
   "execution_count": 4,
   "metadata": {},
   "outputs": [],
   "source": [
    "password = 'a123456'"
   ]
  },
  {
   "cell_type": "code",
   "execution_count": 3,
   "metadata": {},
   "outputs": [
    {
     "name": "stdout",
     "output_type": "stream",
     "text": [
      "請輸入密碼a123456\n",
      "登入成功\n"
     ]
    }
   ],
   "source": [
    "'''\n",
    "i = 3\n",
    "while True:\n",
    "    pwd = input('請輸入密碼')\n",
    "    if pwd == password:\n",
    "        print('登入成功')\n",
    "        break #逃出迴圈\n",
    "    else:\n",
    "        i = i - 1\n",
    "        print('密碼錯誤！還有', i, '次機會')\n",
    "        if i == 0:\n",
    "            break\n",
    "'''"
   ]
  },
  {
   "cell_type": "code",
   "execution_count": 6,
   "metadata": {},
   "outputs": [
    {
     "name": "stdout",
     "output_type": "stream",
     "text": [
      "請輸入密碼asdas\n",
      "密碼錯誤！\n",
      "還有 2 次機會\n",
      "請輸入密碼asd\n",
      "密碼錯誤！\n",
      "還有 1 次機會\n",
      "請輸入密碼asd\n",
      "密碼錯誤！\n",
      "鎖帳號,Bye!\n"
     ]
    }
   ],
   "source": [
    "i = 3\n",
    "while i > 0:\n",
    "    i = i - 1\n",
    "    pwd = input('請輸入密碼')\n",
    "    if pwd == password:\n",
    "        print('登入成功')\n",
    "        break #逃出迴圈\n",
    "    else:\n",
    "        print('密碼錯誤！')\n",
    "        if i > 0:\n",
    "            print('還有', i, '次機會')\n",
    "        else:\n",
    "            print('鎖帳號,Bye!')"
   ]
  },
  {
   "cell_type": "code",
   "execution_count": null,
   "metadata": {},
   "outputs": [],
   "source": []
  }
 ],
 "metadata": {
  "kernelspec": {
   "display_name": "Python 3",
   "language": "python",
   "name": "python3"
  },
  "language_info": {
   "codemirror_mode": {
    "name": "ipython",
    "version": 3
   },
   "file_extension": ".py",
   "mimetype": "text/x-python",
   "name": "python",
   "nbconvert_exporter": "python",
   "pygments_lexer": "ipython3",
   "version": "3.6.8"
  }
 },
 "nbformat": 4,
 "nbformat_minor": 2
}
