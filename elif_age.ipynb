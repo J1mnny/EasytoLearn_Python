{
 "cells": [
  {
   "cell_type": "code",
   "execution_count": 1,
   "metadata": {},
   "outputs": [
    {
     "name": "stdout",
     "output_type": "stream",
     "text": [
      "請輸入年齡： 24\n"
     ]
    }
   ],
   "source": [
    "# else if 另外如果 \n",
    "age = input('請輸入年齡： ')\n",
    "age = int(age)"
   ]
  },
  {
   "cell_type": "code",
   "execution_count": 2,
   "metadata": {},
   "outputs": [
    {
     "name": "stdout",
     "output_type": "stream",
     "text": [
      "社會人士\n"
     ]
    }
   ],
   "source": [
    "if age < 13:\n",
    "    print('國小')\n",
    "elif age >= 13 and age < 18: #兩者為True, 才會執行print\n",
    "    print('國高中')\n",
    "elif age >= 18 and age <22: #兩者為True, 才會執行print\n",
    "    print('大學')\n",
    "else: #若都不在範圍內, 則print如下\n",
    "    print('社會人士')"
   ]
  }
 ],
 "metadata": {
  "kernelspec": {
   "display_name": "Python 3",
   "language": "python",
   "name": "python3"
  },
  "language_info": {
   "codemirror_mode": {
    "name": "ipython",
    "version": 3
   },
   "file_extension": ".py",
   "mimetype": "text/x-python",
   "name": "python",
   "nbconvert_exporter": "python",
   "pygments_lexer": "ipython3",
   "version": "3.6.8"
  }
 },
 "nbformat": 4,
 "nbformat_minor": 2
}
