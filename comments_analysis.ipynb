{
 "cells": [
  {
   "cell_type": "code",
   "execution_count": 1,
   "metadata": {},
   "outputs": [
    {
     "name": "stdout",
     "output_type": "stream",
     "text": [
      "總共有 1000000 筆留言\n"
     ]
    }
   ],
   "source": [
    "data = []\n",
    "with open('reviews.txt', 'r') as f:\n",
    "    for line in f:\n",
    "        data.append(line)   \n",
    "print('總共有', len(data), '筆留言')"
   ]
  },
  {
   "cell_type": "code",
   "execution_count": 2,
   "metadata": {},
   "outputs": [
    {
     "name": "stdout",
     "output_type": "stream",
     "text": [
      "留言平均長度為 366.84585\n"
     ]
    }
   ],
   "source": [
    "sum_len = 0\n",
    "for d in data: #把清單裡一筆筆取出\n",
    "    sum_len += len(d)\n",
    "print('留言平均長度為', (sum_len) / len(data))"
   ]
  },
  {
   "cell_type": "code",
   "execution_count": null,
   "metadata": {},
   "outputs": [],
   "source": []
  }
 ],
 "metadata": {
  "kernelspec": {
   "display_name": "Python 3",
   "language": "python",
   "name": "python3"
  },
  "language_info": {
   "codemirror_mode": {
    "name": "ipython",
    "version": 3
   },
   "file_extension": ".py",
   "mimetype": "text/x-python",
   "name": "python",
   "nbconvert_exporter": "python",
   "pygments_lexer": "ipython3",
   "version": "3.6.8"
  }
 },
 "nbformat": 4,
 "nbformat_minor": 2
}
