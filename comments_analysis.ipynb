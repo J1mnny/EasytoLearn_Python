{
 "cells": [
  {
   "cell_type": "code",
   "execution_count": 1,
   "metadata": {},
   "outputs": [
    {
     "name": "stdout",
     "output_type": "stream",
     "text": [
      "總共有 1000000 筆留言\n"
     ]
    }
   ],
   "source": [
    "data = []\n",
    "with open('reviews.txt', 'r') as f:\n",
    "    for line in f:\n",
    "        data.append(line)   \n",
    "print('總共有', len(data), '筆留言')"
   ]
  },
  {
   "cell_type": "code",
   "execution_count": 2,
   "metadata": {},
   "outputs": [
    {
     "name": "stdout",
     "output_type": "stream",
     "text": [
      "留言平均長度為 366.84585\n"
     ]
    }
   ],
   "source": [
    "sum_len = 0\n",
    "for d in data: #從data清單裡一筆筆取出放入d\n",
    "    sum_len += len(d)\n",
    "print('留言平均長度為', (sum_len) / len(data))"
   ]
  },
  {
   "cell_type": "code",
   "execution_count": 3,
   "metadata": {},
   "outputs": [
    {
     "name": "stdout",
     "output_type": "stream",
     "text": [
      "一共有 24386 多少筆留言長度小於100\n"
     ]
    }
   ],
   "source": [
    "new = []\n",
    "for d in data:\n",
    "    if len(d) <= 100:\n",
    "        new.append(d)\n",
    "print('一共有', len(new), '多少筆留言長度小於100')"
   ]
  },
  {
   "cell_type": "code",
   "execution_count": 7,
   "metadata": {},
   "outputs": [
    {
     "name": "stdout",
     "output_type": "stream",
     "text": [
      "well the price of this watch is 23 dollars, but it is better to add extra and buy better product\n",
      "\n"
     ]
    }
   ],
   "source": [
    "print(new[0])"
   ]
  },
  {
   "cell_type": "code",
   "execution_count": 5,
   "metadata": {},
   "outputs": [
    {
     "name": "stdout",
     "output_type": "stream",
     "text": [
      "一共有 162550 筆留言內容有good字眼\n"
     ]
    }
   ],
   "source": [
    "good = []\n",
    "for d in data:\n",
    "    if 'good' in d:\n",
    "        good.append(d)\n",
    "print('一共有', len(good), '筆留言內容有good字眼')"
   ]
  },
  {
   "cell_type": "code",
   "execution_count": 6,
   "metadata": {},
   "outputs": [
    {
     "name": "stdout",
     "output_type": "stream",
     "text": [
      "I really love this ring. It fits well, feels good, and looks great. I've had several compliments on it. It's a really nice ring (and it doesn't turn my finger green - LOL).\n",
      "\n"
     ]
    }
   ],
   "source": [
    "print(good[0])"
   ]
  },
  {
   "cell_type": "code",
   "execution_count": null,
   "metadata": {},
   "outputs": [],
   "source": []
  }
 ],
 "metadata": {
  "kernelspec": {
   "display_name": "Python 3",
   "language": "python",
   "name": "python3"
  },
  "language_info": {
   "codemirror_mode": {
    "name": "ipython",
    "version": 3
   },
   "file_extension": ".py",
   "mimetype": "text/x-python",
   "name": "python",
   "nbconvert_exporter": "python",
   "pygments_lexer": "ipython3",
   "version": "3.6.8"
  }
 },
 "nbformat": 4,
 "nbformat_minor": 2
}
